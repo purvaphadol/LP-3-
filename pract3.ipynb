{
 "cells": [
  {
   "cell_type": "markdown",
   "metadata": {
    "id": "2iQBZ2WOM83c"
   },
   "source": [
    "Given a bank customer, build a neural network-based classifier that can determine whether\n",
    "they will leave or not in the next 6 months.\n",
    "Dataset Description: The case study is from an open-source dataset from Kaggle.\n",
    "The dataset contains 10,000 sample points with 14 distinct features such as\n",
    "CustomerId, CreditScore, Geography, Gender, Age, Tenure, Balance, etc.\n",
    "Link to the Kaggle project:\n",
    "https://www.kaggle.com/barelydedicated/bank-customer-churn-modeling\n",
    "Perform following steps:\n",
    "1. Read the dataset.\n",
    "2. Distinguish the feature and target set and divide the data set into training and test sets.\n",
    "3. Normalize the train and test data.\n",
    "4. Initialize and build the model. Identify the points of improvement and implement the same.\n",
    "5. Print the accuracy score and confusion matrix (5 points)"
   ]
  },
  {
   "cell_type": "code",
   "execution_count": 1,
   "metadata": {
    "colab": {
     "base_uri": "https://localhost:8080/",
     "height": 356
    },
    "executionInfo": {
     "elapsed": 9851,
     "status": "error",
     "timestamp": 1730724768993,
     "user": {
      "displayName": "Komal Attarde",
      "userId": "01503593459980688247"
     },
     "user_tz": -330
    },
    "id": "R47f1cunO5dE",
    "outputId": "e453b248-009b-46a5-94b0-59497f9181b7"
   },
   "outputs": [
    {
     "name": "stdout",
     "output_type": "stream",
     "text": [
      "Sklearn Model Accuracy: 0.8624\n",
      "[[1963   59]\n",
      " [ 285  193]]\n"
     ]
    },
    {
     "name": "stderr",
     "output_type": "stream",
     "text": [
      "C:\\Users\\purva\\AppData\\Roaming\\Python\\Python311\\site-packages\\sklearn\\neural_network\\_multilayer_perceptron.py:691: ConvergenceWarning: Stochastic Optimizer: Maximum iterations (300) reached and the optimization hasn't converged yet.\n",
      "  warnings.warn(\n"
     ]
    }
   ],
   "source": [
    "# Importing necessary libraries\n",
    "import pandas as pd\n",
    "import numpy as np\n",
    "import seaborn as sns\n",
    "import matplotlib.pyplot as plt\n",
    "from sklearn.model_selection import train_test_split\n",
    "from sklearn.preprocessing import StandardScaler\n",
    "from sklearn.metrics import accuracy_score, confusion_matrix\n",
    "\n",
    "# Step 1: Load the dataset\n",
    "df = pd.read_csv('Churn_Modelling.csv')\n",
    "\n",
    "# Step 2: Data preprocessing\n",
    "df.drop(columns=['RowNumber', 'CustomerId', 'Surname', 'Geography', 'Gender'], inplace=True)\n",
    "\n",
    "# Step 3: Prepare the feature set (X) and target set (y)\n",
    "X=df.iloc[:,1:-1].values\n",
    "y=df.iloc[:,-1].values\n",
    "\n",
    "# Step 4: Split the data into training and testing sets\n",
    "X_train, X_test, y_train, y_test = train_test_split(X, y, test_size=0.25, random_state=20)\n",
    "\n",
    "# Step 5: Normalize the data\n",
    "scaler = StandardScaler()\n",
    "X_train = scaler.fit_transform(X_train)\n",
    "X_test = scaler.transform(X_test)\n",
    "\n",
    "# Step 9 (Optional): Try a different classifier (MLPClassifier from sklearn)\n",
    "from sklearn.neural_network import MLPClassifier\n",
    "\n",
    "nn_classifier = MLPClassifier(hidden_layer_sizes=(100), activation='logistic', max_iter=300)\n",
    "nn_classifier.fit(X_train, y_train)\n",
    "y_pred2 = nn_classifier.predict(X_test)\n",
    "\n",
    "# Evaluate the sklearn model\n",
    "accuracy_sklearn = accuracy_score(y_test, y_pred2)\n",
    "print(\"Sklearn Model Accuracy:\", accuracy_sklearn)\n",
    "\n",
    "# Display confusion matrix for sklearn model\n",
    "cm_sklearn = confusion_matrix(y_test, y_pred2)\n",
    "print(cm_sklearn)\n",
    "\n"
   ]
  },
  {
   "cell_type": "code",
   "execution_count": 2,
   "metadata": {},
   "outputs": [
    {
     "data": {
      "text/plain": [
       "<sklearn.metrics._plot.confusion_matrix.ConfusionMatrixDisplay at 0x1cd73553690>"
      ]
     },
     "execution_count": 2,
     "metadata": {},
     "output_type": "execute_result"
    },
    {
     "data": {
      "image/png": "[encoded data removed]",
      "text/plain": [
       "<Figure size 640x480 with 2 Axes>"
      ]
     },
     "metadata": {},
     "output_type": "display_data"
    }
   ],
   "source": [
    "\n",
    "from sklearn.metrics import ConfusionMatrixDisplay\n",
    "display = ConfusionMatrixDisplay(cm_sklearn)\n",
    "display.plot()"
   ]
  },
  {
   "cell_type": "code",
   "execution_count": 3,
   "metadata": {},
   "outputs": [
    {
     "name": "stdout",
     "output_type": "stream",
     "text": [
      "The customer is predicted to churn.\n"
     ]
    },
    {
     "name": "stderr",
     "output_type": "stream",
     "text": [
      "C:\\Users\\purva\\AppData\\Roaming\\Python\\Python311\\site-packages\\sklearn\\base.py:486: UserWarning: X has feature names, but StandardScaler was fitted without feature names\n",
      "  warnings.warn(\n"
     ]
    }
   ],
   "source": [
    "# Step 1: Specify the values for CreditScore and Age\n",
    "input_credit_score = 700  # Replace with the desired Credit Score\n",
    "input_age = 35            # Replace with the desired Age\n",
    "\n",
    "# Step 2: Prepare the input data\n",
    "# Create a DataFrame with the input values including all required features\n",
    "input_data = pd.DataFrame({\n",
    "    'CreditScore': [input_credit_score],\n",
    "    'Age': [input_age],\n",
    "    'Tenure': [1],          # Example value, can be adjusted\n",
    "    'Balance': [5000],      # Example value, can be adjusted\n",
    "    'NumOfProducts': [2],   # Example value, can be adjusted\n",
    "    'HasCrCard': [1],       # Example value, can be adjusted\n",
    "    'IsActiveMember': [1],   # Example value, can be adjusted\n",
    "    #'EstimatedSalary': [50000]  # Example value, can be adjusted\n",
    "})\n",
    "\n",
    "# Step 3: Scale the input data using the previously fitted scaler\n",
    "scaled_input = scaler.transform(input_data)\n",
    "\n",
    "# Step 4: Make predictions using the trained model\n",
    "prediction = nn_classifier.predict(scaled_input)\n",
    "\n",
    "# Step 5: Output the prediction\n",
    "if prediction[0] == 1:\n",
    "    print(\"The customer is predicted to churn.\")\n",
    "else:\n",
    "    print(\"The customer is predicted to stay.\")\n"
   ]
  },
  {
   "cell_type": "code",
   "execution_count": null,
   "metadata": {},
   "outputs": [],
   "source": []
  }
 ],
 "metadata": {
  "colab": {
   "provenance": []
  },
  "kernelspec": {
   "display_name": "Python 3",
   "language": "python",
   "name": "python3"
  },
  "language_info": {
   "codemirror_mode": {
    "name": "ipython",
    "version": 3
   },
   "file_extension": ".py",
   "mimetype": "text/x-python",
   "name": "python",
   "nbconvert_exporter": "python",
   "pygments_lexer": "ipython3",
   "version": "3.11.0"
  }
 },
 "nbformat": 4,
 "nbformat_minor": 0
}
